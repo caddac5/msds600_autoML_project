{
 "cells": [
  {
   "cell_type": "markdown",
   "id": "b1cdd16f",
   "metadata": {},
   "source": [
    "# Week 5 Assignment"
   ]
  },
  {
   "cell_type": "markdown",
   "id": "d485eea1",
   "metadata": {},
   "source": [
    "Import modules and prep data for analysis."
   ]
  },
  {
   "cell_type": "code",
   "execution_count": 10,
   "id": "bc3accd7",
   "metadata": {},
   "outputs": [],
   "source": [
    "import pandas as pd\n",
    "import numpy as np\n",
    "\n",
    "import matplotlib.pyplot as plt\n",
    "%matplotlib inline\n",
    "import seaborn as sns\n",
    "\n",
    "from tpot import TPOTClassifier\n",
    "from sklearn.model_selection import train_test_split\n",
    "\n",
    "import timeit\n",
    "\n",
    "import warnings\n",
    "warnings.filterwarnings(\"ignore\")"
   ]
  },
  {
   "cell_type": "code",
   "execution_count": 4,
   "id": "e2cdc4c8",
   "metadata": {},
   "outputs": [
    {
     "data": {
      "text/html": [
       "<div>\n",
       "<style scoped>\n",
       "    .dataframe tbody tr th:only-of-type {\n",
       "        vertical-align: middle;\n",
       "    }\n",
       "\n",
       "    .dataframe tbody tr th {\n",
       "        vertical-align: top;\n",
       "    }\n",
       "\n",
       "    .dataframe thead th {\n",
       "        text-align: right;\n",
       "    }\n",
       "</style>\n",
       "<table border=\"1\" class=\"dataframe\">\n",
       "  <thead>\n",
       "    <tr style=\"text-align: right;\">\n",
       "      <th></th>\n",
       "      <th>tenure</th>\n",
       "      <th>PhoneService</th>\n",
       "      <th>Contract</th>\n",
       "      <th>PaymentMethod</th>\n",
       "      <th>MonthlyCharges</th>\n",
       "      <th>TotalCharges</th>\n",
       "      <th>Churn</th>\n",
       "      <th>zscore_tenure</th>\n",
       "      <th>zscore_monthlyCharge</th>\n",
       "      <th>zscore_totalCharge</th>\n",
       "      <th>avgCharges</th>\n",
       "      <th>chargeDiff</th>\n",
       "    </tr>\n",
       "    <tr>\n",
       "      <th>customerID</th>\n",
       "      <th></th>\n",
       "      <th></th>\n",
       "      <th></th>\n",
       "      <th></th>\n",
       "      <th></th>\n",
       "      <th></th>\n",
       "      <th></th>\n",
       "      <th></th>\n",
       "      <th></th>\n",
       "      <th></th>\n",
       "      <th></th>\n",
       "      <th></th>\n",
       "    </tr>\n",
       "  </thead>\n",
       "  <tbody>\n",
       "    <tr>\n",
       "      <th>7590-VHVEG</th>\n",
       "      <td>1</td>\n",
       "      <td>0</td>\n",
       "      <td>0</td>\n",
       "      <td>1</td>\n",
       "      <td>29.85</td>\n",
       "      <td>29.85</td>\n",
       "      <td>0</td>\n",
       "      <td>1.277445</td>\n",
       "      <td>1.160323</td>\n",
       "      <td>0.992667</td>\n",
       "      <td>29.850000</td>\n",
       "      <td>0.000000</td>\n",
       "    </tr>\n",
       "    <tr>\n",
       "      <th>5575-GNVDE</th>\n",
       "      <td>34</td>\n",
       "      <td>1</td>\n",
       "      <td>1</td>\n",
       "      <td>0</td>\n",
       "      <td>56.95</td>\n",
       "      <td>1889.50</td>\n",
       "      <td>0</td>\n",
       "      <td>0.066327</td>\n",
       "      <td>0.259629</td>\n",
       "      <td>0.172198</td>\n",
       "      <td>55.573529</td>\n",
       "      <td>-1.376471</td>\n",
       "    </tr>\n",
       "    <tr>\n",
       "      <th>3668-QPYBK</th>\n",
       "      <td>2</td>\n",
       "      <td>1</td>\n",
       "      <td>0</td>\n",
       "      <td>0</td>\n",
       "      <td>53.85</td>\n",
       "      <td>108.15</td>\n",
       "      <td>1</td>\n",
       "      <td>1.236724</td>\n",
       "      <td>0.362660</td>\n",
       "      <td>0.958122</td>\n",
       "      <td>54.075000</td>\n",
       "      <td>0.225000</td>\n",
       "    </tr>\n",
       "    <tr>\n",
       "      <th>7795-CFOCW</th>\n",
       "      <td>45</td>\n",
       "      <td>0</td>\n",
       "      <td>1</td>\n",
       "      <td>2</td>\n",
       "      <td>42.30</td>\n",
       "      <td>1840.75</td>\n",
       "      <td>0</td>\n",
       "      <td>0.514251</td>\n",
       "      <td>0.746535</td>\n",
       "      <td>0.193706</td>\n",
       "      <td>40.905556</td>\n",
       "      <td>-1.394444</td>\n",
       "    </tr>\n",
       "    <tr>\n",
       "      <th>9237-HQITU</th>\n",
       "      <td>2</td>\n",
       "      <td>1</td>\n",
       "      <td>0</td>\n",
       "      <td>1</td>\n",
       "      <td>70.70</td>\n",
       "      <td>151.65</td>\n",
       "      <td>1</td>\n",
       "      <td>1.236724</td>\n",
       "      <td>0.197365</td>\n",
       "      <td>0.938930</td>\n",
       "      <td>75.825000</td>\n",
       "      <td>5.125000</td>\n",
       "    </tr>\n",
       "    <tr>\n",
       "      <th>...</th>\n",
       "      <td>...</td>\n",
       "      <td>...</td>\n",
       "      <td>...</td>\n",
       "      <td>...</td>\n",
       "      <td>...</td>\n",
       "      <td>...</td>\n",
       "      <td>...</td>\n",
       "      <td>...</td>\n",
       "      <td>...</td>\n",
       "      <td>...</td>\n",
       "      <td>...</td>\n",
       "      <td>...</td>\n",
       "    </tr>\n",
       "    <tr>\n",
       "      <th>6840-RESVB</th>\n",
       "      <td>24</td>\n",
       "      <td>1</td>\n",
       "      <td>1</td>\n",
       "      <td>0</td>\n",
       "      <td>84.80</td>\n",
       "      <td>1990.50</td>\n",
       "      <td>0</td>\n",
       "      <td>0.340876</td>\n",
       "      <td>0.665992</td>\n",
       "      <td>0.127637</td>\n",
       "      <td>82.937500</td>\n",
       "      <td>-1.862500</td>\n",
       "    </tr>\n",
       "    <tr>\n",
       "      <th>2234-XADUH</th>\n",
       "      <td>72</td>\n",
       "      <td>1</td>\n",
       "      <td>1</td>\n",
       "      <td>3</td>\n",
       "      <td>103.20</td>\n",
       "      <td>7362.90</td>\n",
       "      <td>0</td>\n",
       "      <td>1.613701</td>\n",
       "      <td>1.277533</td>\n",
       "      <td>2.242641</td>\n",
       "      <td>102.262500</td>\n",
       "      <td>-0.937500</td>\n",
       "    </tr>\n",
       "    <tr>\n",
       "      <th>4801-JZAZL</th>\n",
       "      <td>11</td>\n",
       "      <td>0</td>\n",
       "      <td>0</td>\n",
       "      <td>1</td>\n",
       "      <td>29.60</td>\n",
       "      <td>346.45</td>\n",
       "      <td>0</td>\n",
       "      <td>0.870241</td>\n",
       "      <td>1.168632</td>\n",
       "      <td>0.852985</td>\n",
       "      <td>31.495455</td>\n",
       "      <td>1.895455</td>\n",
       "    </tr>\n",
       "    <tr>\n",
       "      <th>8361-LTMKD</th>\n",
       "      <td>4</td>\n",
       "      <td>1</td>\n",
       "      <td>0</td>\n",
       "      <td>0</td>\n",
       "      <td>74.40</td>\n",
       "      <td>306.60</td>\n",
       "      <td>1</td>\n",
       "      <td>1.155283</td>\n",
       "      <td>0.320338</td>\n",
       "      <td>0.870566</td>\n",
       "      <td>76.650000</td>\n",
       "      <td>2.250000</td>\n",
       "    </tr>\n",
       "    <tr>\n",
       "      <th>3186-AJIEK</th>\n",
       "      <td>66</td>\n",
       "      <td>1</td>\n",
       "      <td>2</td>\n",
       "      <td>2</td>\n",
       "      <td>105.65</td>\n",
       "      <td>6844.50</td>\n",
       "      <td>0</td>\n",
       "      <td>1.369379</td>\n",
       "      <td>1.358961</td>\n",
       "      <td>2.013925</td>\n",
       "      <td>103.704545</td>\n",
       "      <td>-1.945455</td>\n",
       "    </tr>\n",
       "  </tbody>\n",
       "</table>\n",
       "<p>7043 rows × 12 columns</p>\n",
       "</div>"
      ],
      "text/plain": [
       "            tenure  PhoneService  Contract  PaymentMethod  MonthlyCharges  \\\n",
       "customerID                                                                  \n",
       "7590-VHVEG       1             0         0              1           29.85   \n",
       "5575-GNVDE      34             1         1              0           56.95   \n",
       "3668-QPYBK       2             1         0              0           53.85   \n",
       "7795-CFOCW      45             0         1              2           42.30   \n",
       "9237-HQITU       2             1         0              1           70.70   \n",
       "...            ...           ...       ...            ...             ...   \n",
       "6840-RESVB      24             1         1              0           84.80   \n",
       "2234-XADUH      72             1         1              3          103.20   \n",
       "4801-JZAZL      11             0         0              1           29.60   \n",
       "8361-LTMKD       4             1         0              0           74.40   \n",
       "3186-AJIEK      66             1         2              2          105.65   \n",
       "\n",
       "            TotalCharges  Churn  zscore_tenure  zscore_monthlyCharge  \\\n",
       "customerID                                                             \n",
       "7590-VHVEG         29.85      0       1.277445              1.160323   \n",
       "5575-GNVDE       1889.50      0       0.066327              0.259629   \n",
       "3668-QPYBK        108.15      1       1.236724              0.362660   \n",
       "7795-CFOCW       1840.75      0       0.514251              0.746535   \n",
       "9237-HQITU        151.65      1       1.236724              0.197365   \n",
       "...                  ...    ...            ...                   ...   \n",
       "6840-RESVB       1990.50      0       0.340876              0.665992   \n",
       "2234-XADUH       7362.90      0       1.613701              1.277533   \n",
       "4801-JZAZL        346.45      0       0.870241              1.168632   \n",
       "8361-LTMKD        306.60      1       1.155283              0.320338   \n",
       "3186-AJIEK       6844.50      0       1.369379              1.358961   \n",
       "\n",
       "            zscore_totalCharge  avgCharges  chargeDiff  \n",
       "customerID                                              \n",
       "7590-VHVEG            0.992667   29.850000    0.000000  \n",
       "5575-GNVDE            0.172198   55.573529   -1.376471  \n",
       "3668-QPYBK            0.958122   54.075000    0.225000  \n",
       "7795-CFOCW            0.193706   40.905556   -1.394444  \n",
       "9237-HQITU            0.938930   75.825000    5.125000  \n",
       "...                        ...         ...         ...  \n",
       "6840-RESVB            0.127637   82.937500   -1.862500  \n",
       "2234-XADUH            2.242641  102.262500   -0.937500  \n",
       "4801-JZAZL            0.852985   31.495455    1.895455  \n",
       "8361-LTMKD            0.870566   76.650000    2.250000  \n",
       "3186-AJIEK            2.013925  103.704545   -1.945455  \n",
       "\n",
       "[7043 rows x 12 columns]"
      ]
     },
     "execution_count": 4,
     "metadata": {},
     "output_type": "execute_result"
    }
   ],
   "source": [
    "df = pd.read_csv('../prepped_churn_data.csv', index_col='customerID')\n",
    "df"
   ]
  },
  {
   "cell_type": "code",
   "execution_count": 6,
   "id": "bcb9d647",
   "metadata": {},
   "outputs": [
    {
     "name": "stdout",
     "output_type": "stream",
     "text": [
      "<class 'pandas.core.frame.DataFrame'>\n",
      "Index: 7043 entries, 7590-VHVEG to 3186-AJIEK\n",
      "Data columns (total 12 columns):\n",
      " #   Column                Non-Null Count  Dtype  \n",
      "---  ------                --------------  -----  \n",
      " 0   tenure                7043 non-null   int64  \n",
      " 1   PhoneService          7043 non-null   int64  \n",
      " 2   Contract              7043 non-null   int64  \n",
      " 3   PaymentMethod         7043 non-null   int64  \n",
      " 4   MonthlyCharges        7043 non-null   float64\n",
      " 5   TotalCharges          7043 non-null   float64\n",
      " 6   Churn                 7043 non-null   int64  \n",
      " 7   zscore_tenure         7043 non-null   float64\n",
      " 8   zscore_monthlyCharge  7043 non-null   float64\n",
      " 9   zscore_totalCharge    7043 non-null   float64\n",
      " 10  avgCharges            7043 non-null   float64\n",
      " 11  chargeDiff            7043 non-null   float64\n",
      "dtypes: float64(7), int64(5)\n",
      "memory usage: 715.3+ KB\n"
     ]
    }
   ],
   "source": [
    "df.info()"
   ]
  },
  {
   "cell_type": "markdown",
   "id": "19be230a",
   "metadata": {},
   "source": [
    "Create features and targets from data for ML models"
   ]
  },
  {
   "cell_type": "code",
   "execution_count": 7,
   "id": "0e925e35",
   "metadata": {},
   "outputs": [],
   "source": [
    "features = df.drop(['Churn'],axis=1)\n",
    "targets = df['Churn']\n",
    "\n",
    "x_train, x_test, y_train, y_test = train_test_split(features, targets, random_state=42)"
   ]
  },
  {
   "cell_type": "markdown",
   "id": "73946656",
   "metadata": {},
   "source": [
    "## Use tpot to find an ML algorithm that performs best on the data"
   ]
  },
  {
   "cell_type": "markdown",
   "id": "1d4d6f11",
   "metadata": {},
   "source": [
    "TPOT was used and found that the best algorithm is the ExtraTreesClassifier"
   ]
  },
  {
   "cell_type": "code",
   "execution_count": 12,
   "id": "397ff7ba",
   "metadata": {},
   "outputs": [
    {
     "data": {
      "application/vnd.jupyter.widget-view+json": {
       "model_id": "",
       "version_major": 2,
       "version_minor": 0
      },
      "text/plain": [
       "Optimization Progress:   0%|          | 0/300 [00:00<?, ?pipeline/s]"
      ]
     },
     "metadata": {},
     "output_type": "display_data"
    },
    {
     "name": "stdout",
     "output_type": "stream",
     "text": [
      "\n",
      "Generation 1 - Current best internal CV score: 0.7960970872394715\n",
      "\n",
      "Generation 2 - Current best internal CV score: 0.796097445600757\n",
      "\n",
      "Generation 3 - Current best internal CV score: 0.796475337576331\n",
      "\n",
      "Generation 4 - Current best internal CV score: 0.7966658065995814\n",
      "\n",
      "Generation 5 - Current best internal CV score: 0.7983701728734842\n",
      "\n",
      "Best pipeline: ExtraTreesClassifier(SGDClassifier(input_matrix, alpha=0.001, eta0=0.01, fit_intercept=True, l1_ratio=0.75, learning_rate=constant, loss=hinge, penalty=elasticnet, power_t=100.0), bootstrap=True, criterion=gini, max_features=0.35000000000000003, min_samples_leaf=5, min_samples_split=12, n_estimators=100)\n",
      "0.8018171493469619\n",
      "CPU times: total: 60 s\n",
      "Wall time: 2min 37s\n"
     ]
    }
   ],
   "source": [
    "%%time\n",
    "tpot = TPOTClassifier(generations=5, population_size=50, cv=5,random_state=42, scoring='accuracy', verbosity=2, n_jobs=-1)\n",
    "\n",
    "tpot.fit(x_train, y_train)\n",
    "print(tpot.score(x_test, y_test))"
   ]
  },
  {
   "cell_type": "markdown",
   "id": "2f87984b",
   "metadata": {},
   "source": [
    "We can see that the model gave us an 80% accuracy."
   ]
  },
  {
   "cell_type": "code",
   "execution_count": 13,
   "id": "25dac817",
   "metadata": {},
   "outputs": [
    {
     "data": {
      "text/plain": [
       "array([1, 0, 0, ..., 0, 1, 0], dtype=int64)"
      ]
     },
     "execution_count": 13,
     "metadata": {},
     "output_type": "execute_result"
    }
   ],
   "source": [
    "predictions = tpot.predict(x_test)\n",
    "predictions"
   ]
  },
  {
   "cell_type": "code",
   "execution_count": 14,
   "id": "255c8841",
   "metadata": {},
   "outputs": [
    {
     "name": "stdout",
     "output_type": "stream",
     "text": [
      "Predictions for test data set\n",
      "[1 0 0 ... 0 1 0]\n",
      "Actuals for test data set\n",
      "customerID\n",
      "1024-GUALD    1\n",
      "0484-JPBRU    0\n",
      "3620-EHIMZ    0\n",
      "6910-HADCM    1\n",
      "8587-XYZSF    0\n",
      "             ..\n",
      "4581-SSPWD    1\n",
      "4813-HQMGZ    0\n",
      "4903-CNOZC    0\n",
      "0822-GAVAP    1\n",
      "3055-OYMSE    0\n",
      "Name: Churn, Length: 1761, dtype: int64\n",
      "Accuracy of the TPOT predictions: 0.8018171493469619\n"
     ]
    }
   ],
   "source": [
    "# display the actuals and predictions for the test set\n",
    "print('Predictions for test data set')\n",
    "print(predictions)\n",
    "print('Actuals for test data set')\n",
    "print(y_test)\n",
    "\n",
    "from sklearn.metrics import accuracy_score\n",
    "print(f'Accuracy of the TPOT predictions: {accuracy_score(y_test,predictions)}')"
   ]
  },
  {
   "cell_type": "markdown",
   "id": "6f22b424",
   "metadata": {},
   "source": [
    "## Save the model to disk"
   ]
  },
  {
   "cell_type": "code",
   "execution_count": 15,
   "id": "50fe5a15",
   "metadata": {},
   "outputs": [],
   "source": [
    "tpot.export('tpot_churn_pipeline.py')"
   ]
  },
  {
   "cell_type": "markdown",
   "id": "3e24600d",
   "metadata": {},
   "source": [
    "## Create a Python script/file/module with a function that takes a pandas dataframe as an input and returns the probability of churn for each row in the dataframe\n",
    "\n",
    "your Python file/function should print out the predictions for new data (new_churn_data.csv) the true values for the new data are [1, 0, 0, 1, 0] if you're interested\n",
    "\n",
    "I created a script from the exported TPOT pipeline to predict the new data. As seen below, the prediction model correctly predicted 4/5, or 80%, which is exactly what is expected based on the test data accuracy.\n"
   ]
  },
  {
   "cell_type": "code",
   "execution_count": 28,
   "id": "2d0a53ad",
   "metadata": {},
   "outputs": [
    {
     "name": "stdout",
     "output_type": "stream",
     "text": [
      "[1 0 0 0 0]\n"
     ]
    }
   ],
   "source": [
    "%run tpot_churn_pipeline.py"
   ]
  },
  {
   "cell_type": "markdown",
   "id": "91e71cb3",
   "metadata": {},
   "source": [
    "## Summary"
   ]
  },
  {
   "cell_type": "markdown",
   "id": "8df8516a",
   "metadata": {},
   "source": [
    "Overall, the model chosen by TPOT gave us an accuracy of 80% based on the test data. When we ran the model against the new data, it also returned an 80% accuracy, so it performed as expected. Given more time, TPOT may be able to create a model with a higher accuracy."
   ]
  }
 ],
 "metadata": {
  "kernelspec": {
   "display_name": "Python 3 (ipykernel)",
   "language": "python",
   "name": "python3"
  },
  "language_info": {
   "codemirror_mode": {
    "name": "ipython",
    "version": 3
   },
   "file_extension": ".py",
   "mimetype": "text/x-python",
   "name": "python",
   "nbconvert_exporter": "python",
   "pygments_lexer": "ipython3",
   "version": "3.11.7"
  }
 },
 "nbformat": 4,
 "nbformat_minor": 5
}
